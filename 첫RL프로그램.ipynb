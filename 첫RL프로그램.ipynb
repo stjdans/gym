{
 "cells": [
  {
   "cell_type": "code",
   "execution_count": 1,
   "id": "037da410",
   "metadata": {},
   "outputs": [
    {
     "name": "stdout",
     "output_type": "stream",
     "text": [
      "Action space: Discrete(2)\n",
      "Sample action: 0\n"
     ]
    }
   ],
   "source": [
    "import gymnasium as gym\n",
    "\n",
    "env = gym.make('CartPole-v1')\n",
    "print(f'Action space: {env.action_space}')\n",
    "print(f'Sample action: {env.action_space.sample()}')"
   ]
  },
  {
   "cell_type": "code",
   "execution_count": 5,
   "id": "0a5df00f",
   "metadata": {},
   "outputs": [
    {
     "name": "stdout",
     "output_type": "stream",
     "text": [
      "(96, 96, 3)\n",
      "(27648,)\n"
     ]
    },
    {
     "data": {
      "text/plain": [
       "(27648,)"
      ]
     },
     "execution_count": 5,
     "metadata": {},
     "output_type": "execute_result"
    }
   ],
   "source": [
    "import gymnasium as gym\n",
    "from gymnasium.wrappers import FlattenObservation\n",
    "\n",
    "# Start with a complex observation space\n",
    "env = gym.make(\"CarRacing-v3\")\n",
    "\n",
    "print(env.observation_space.shape)\n",
    "(96, 96, 3)  # 96x96 RGB image\n",
    "\n",
    "# Wrap it to flatten the observation into a 1D array\n",
    "wrapped_env = FlattenObservation(env)\n",
    "print(wrapped_env.observation_space.shape)\n",
    "(27648,)  # All pixels in a single array\n",
    "\n",
    "# This makes it easier to use with some algorithms that expect 1D input"
   ]
  }
 ],
 "metadata": {
  "kernelspec": {
   "display_name": "gym",
   "language": "python",
   "name": "python3"
  },
  "language_info": {
   "codemirror_mode": {
    "name": "ipython",
    "version": 3
   },
   "file_extension": ".py",
   "mimetype": "text/x-python",
   "name": "python",
   "nbconvert_exporter": "python",
   "pygments_lexer": "ipython3",
   "version": "3.10.8"
  }
 },
 "nbformat": 4,
 "nbformat_minor": 5
}
